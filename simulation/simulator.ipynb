{
 "cells": [
  {
   "cell_type": "code",
   "execution_count": 4,
   "metadata": {},
   "outputs": [],
   "source": [
    "import habitat\n",
    "from habitat.sims.habitat_simulator.actions import HabitatSimActions\n",
    "import cv2\n",
    "import numpy as np\n",
    "import os\n",
    "import matplotlib.pyplot as plt\n",
    "import sys\n",
    "import copy\n",
    "from PIL import Image\n",
    "import torchvision.transforms as transforms\n",
    "\n",
    "# Utils.\n",
    "sys.path.append(\"../\")\n",
    "from infrastructure.utils import save"
   ]
  },
  {
   "cell_type": "code",
   "execution_count": null,
   "metadata": {},
   "outputs": [],
   "source": [
    "# For testing and checking source code purpose.\n",
    "\n",
    "class Simulator(object):\n",
    "    def __init__(self) -> None:\n",
    "        self.env = habitat.Env(\n",
    "        config=habitat.get_config(\"benchmark/nav/pointnav/pointnav_habitat_test.yaml\")\n",
    "        )\n",
    "        \n",
    "simulator = Simulator()"
   ]
  }
 ],
 "metadata": {
  "kernelspec": {
   "display_name": "habitat",
   "language": "python",
   "name": "python3"
  },
  "language_info": {
   "codemirror_mode": {
    "name": "ipython",
    "version": 3
   },
   "file_extension": ".py",
   "mimetype": "text/x-python",
   "name": "python",
   "nbconvert_exporter": "python",
   "pygments_lexer": "ipython3",
   "version": "3.9.16"
  },
  "orig_nbformat": 4
 },
 "nbformat": 4,
 "nbformat_minor": 2
}
